{
 "cells": [
  {
   "cell_type": "code",
   "execution_count": 1,
   "metadata": {},
   "outputs": [
    {
     "name": "stdout",
     "output_type": "stream",
     "text": [
      "Requirement already satisfied: fasttext in /Users/josuegodeme/anaconda3/lib/python3.11/site-packages (0.9.2)\n",
      "Requirement already satisfied: pybind11>=2.2 in /Users/josuegodeme/anaconda3/lib/python3.11/site-packages (from fasttext) (2.11.1)\n",
      "Requirement already satisfied: setuptools>=0.7.0 in /Users/josuegodeme/anaconda3/lib/python3.11/site-packages (from fasttext) (65.6.3)\n",
      "Requirement already satisfied: numpy in /Users/josuegodeme/anaconda3/lib/python3.11/site-packages (from fasttext) (1.24.3)\n",
      "Requirement already satisfied: numpy in /Users/josuegodeme/anaconda3/lib/python3.11/site-packages (1.24.3)\n"
     ]
    }
   ],
   "source": [
    "!pip install fasttext\n",
    "!pip install numpy\n",
    "from scipy.spatial.distance import cosine\n",
    "import numpy as np # if it doen't work, just install numpy -> pip install numpy\n",
    "from sklearn.manifold import TSNE # if it doen't work, just install sklearn -> pip install sklearn\n",
    "import matplotlib.pyplot as plt # if it doen't work, just install matplotlib -> pip install matplotlib\n",
    "import random # if it doen't work, just install random -> pip install random\n",
    "import fasttext\n"
   ]
  },
  {
   "cell_type": "code",
   "execution_count": 2,
   "metadata": {},
   "outputs": [
    {
     "name": "stderr",
     "output_type": "stream",
     "text": [
      "Read 0M words\n",
      "Number of words:  58\n",
      "Number of labels: 0\n",
      "Progress: 100.0% words/sec/thread:   12591 lr:  0.000000 avg.loss:  4.126940 ETA:   0h 0m 0s\n"
     ]
    }
   ],
   "source": [
    "\n",
    "# Replace with the path to your dataset\n",
    "dataset_path = '/PATH TO THE AJA DATASET/'\n",
    "\n",
    "# Training the model\n",
    "model = fasttext.train_unsupervised(dataset_path, model='skipgram')\n",
    "\n",
    "# Saving the model\n",
    "model.save_model('/PATH TO YOUR MODEL/model.bin')\n"
   ]
  },
  {
   "cell_type": "code",
   "execution_count": 3,
   "metadata": {},
   "outputs": [
    {
     "name": "stdout",
     "output_type": "stream",
     "text": [
      "[-2.0339319e-03  4.7240802e-04  2.5347557e-03  5.7691499e-04\n",
      " -3.1456896e-04  1.1223979e-04 -4.3745022e-04  1.4335854e-03\n",
      " -8.2749937e-04  4.3664474e-04 -1.1498362e-03 -5.0623621e-05\n",
      " -2.3404502e-03 -6.3635845e-04 -6.4255315e-04  4.1401931e-04\n",
      " -1.5510971e-03 -5.7767454e-04  2.1722224e-03  5.2441732e-04\n",
      " -6.8149419e-04  1.9498520e-03 -1.4220983e-03 -3.0321145e-04\n",
      "  9.8892616e-04  1.6735385e-03 -8.9142733e-04 -7.6708628e-04\n",
      "  7.1424077e-04  1.0667223e-03  4.3428587e-04 -4.4292202e-03\n",
      "  1.1723604e-03  3.6361176e-04 -2.6342657e-03  1.1838977e-03\n",
      "  1.4931957e-03  2.8348996e-04 -2.8811630e-03  1.1293950e-03\n",
      "  8.6226495e-04 -1.4181128e-04  2.1619208e-03  2.5361693e-03\n",
      "  1.1620125e-03 -5.9196883e-04  1.9511186e-03  9.0120028e-04\n",
      " -1.6652761e-03 -3.7716676e-03  1.8032423e-03  1.1505198e-03\n",
      " -7.4267091e-04 -2.8571298e-03 -8.1163010e-04 -2.3272366e-03\n",
      "  1.0923486e-03  1.5022405e-03  4.2643753e-04 -6.5285497e-04\n",
      " -2.6145473e-03  2.7600236e-03  5.5915694e-04  9.7877183e-04\n",
      " -7.0813065e-04 -1.5396936e-03 -9.3754940e-04  2.5479796e-03\n",
      "  3.1775085e-03  1.4960124e-04 -1.7344769e-03 -1.7909385e-03\n",
      " -4.3263106e-04 -2.0574490e-04  7.0503581e-04 -3.6198684e-04\n",
      " -1.9168947e-06 -2.0868641e-03 -2.2386059e-03  1.0317422e-03\n",
      "  1.5747456e-03  1.2358747e-03  1.1204322e-03  3.0082192e-03\n",
      "  9.8457502e-04 -7.8937056e-04 -3.5672381e-03  5.8252644e-04\n",
      " -1.1670740e-03 -1.1584802e-03  8.4662827e-04  3.7119575e-04\n",
      " -2.8486946e-03  1.5768869e-03 -2.8627745e-03 -2.6163456e-04\n",
      "  2.1416645e-03  5.2809186e-04  9.2567055e-04 -7.1440829e-04]\n"
     ]
    },
    {
     "name": "stderr",
     "output_type": "stream",
     "text": [
      "Warning : `load_model` does not return WordVectorModel or SupervisedModel any more, but a `FastText` object which is very similar.\n"
     ]
    }
   ],
   "source": [
    "model = fasttext.load_model('/PATH TO YOUR MODEL/model.bin')\n",
    "print(model.get_word_vector('eshi'))"
   ]
  },
  {
   "cell_type": "code",
   "execution_count": 4,
   "metadata": {},
   "outputs": [
    {
     "name": "stdout",
     "output_type": "stream",
     "text": [
      "Word: ajagbe, Similarity: 0.34880366921424866\n",
      "Word: sɔ, Similarity: 0.3193800151348114\n",
      "Word: va, Similarity: 0.24484875798225403\n"
     ]
    }
   ],
   "source": [
    "# Display the most similar words to the one you input\n",
    "similar_words = model.get_nearest_neighbors('aja', k=3)  # k is the number of top similar words you want\n",
    "for score, word in similar_words:\n",
    "    print(f\"Word: {word}, Similarity: {score}\")\n"
   ]
  },
  {
   "cell_type": "code",
   "execution_count": 5,
   "metadata": {},
   "outputs": [
    {
     "name": "stdout",
     "output_type": "stream",
     "text": [
      "Cosine similarity between 'eshi' and 'ezo si': -0.1609410047531128\n"
     ]
    }
   ],
   "source": [
    "\n",
    "def word_similarity(word1, word2, model):\n",
    "    # Cosine similarity is 1 - cosine distance\n",
    "    return 1 - cosine(model.get_word_vector(word1), model.get_word_vector(word2))\n",
    "\n",
    "similarity = word_similarity('eshi', 'ezo', model)\n",
    "print(f\"Cosine similarity between 'eshi' and 'ezo si': {similarity}\")\n"
   ]
  },
  {
   "cell_type": "code",
   "execution_count": 6,
   "metadata": {},
   "outputs": [
    {
     "name": "stdout",
     "output_type": "stream",
     "text": [
      "Distance between 'efio' and 'efio si': 0.354997456073761\n"
     ]
    }
   ],
   "source": [
    "# Measuring distance between 2 words - High cosine similarity implies high dissimilarities\n",
    "\n",
    "from scipy.spatial.distance import cosine\n",
    "\n",
    "def word_distance(word1, word2, model):\n",
    "    return cosine(model.get_word_vector(word1), model.get_word_vector(word2))\n",
    "\n",
    "\n",
    "distance = word_distance('efio', 'efio si', model)\n",
    "print(f\"Distance between 'efio' and 'efio si': {distance}\")\n"
   ]
  },
  {
   "cell_type": "code",
   "execution_count": 7,
   "metadata": {},
   "outputs": [
    {
     "name": "stderr",
     "output_type": "stream",
     "text": [
      "Warning : `load_model` does not return WordVectorModel or SupervisedModel any more, but a `FastText` object which is very similar.\n"
     ]
    },
    {
     "data": {
      "image/png": "[encoded data removed]",
      "text/plain": [
       "<Figure size 600x600 with 1 Axes>"
      ]
     },
     "metadata": {},
     "output_type": "display_data"
    }
   ],
   "source": [
    "\n",
    "\n",
    "# Load your model\n",
    "model = fasttext.load_model('/PATH TO YOUR MODEL/model.bin')\n",
    "\n",
    "# Extract vectors\n",
    "words = ['ezo', 'eshi']  # Add other words as needed\n",
    "vectors = np.array([model.get_word_vector(word) for word in words])\n",
    "\n",
    "# Dimensionality Reduction using t-SNE\n",
    "# Assuming you have 3 words\n",
    "tsne = TSNE(n_components=2, random_state=0, perplexity=1)\n",
    "vectors_2d = tsne.fit_transform(vectors)\n",
    "\n",
    "# Visualization\n",
    "plt.figure(figsize=(6, 6))\n",
    "for i, word in enumerate(words):\n",
    "    plt.scatter(vectors_2d[i, 0], vectors_2d[i, 1])\n",
    "    plt.annotate(word, xy=(vectors_2d[i, 0], vectors_2d[i, 1]), xytext=(5, 2),\n",
    "                 textcoords='offset points', ha='right', va='bottom')\n",
    "plt.show()\n"
   ]
  },
  {
   "cell_type": "code",
   "execution_count": null,
   "metadata": {},
   "outputs": [],
   "source": []
  },
  {
   "cell_type": "code",
   "execution_count": null,
   "metadata": {},
   "outputs": [],
   "source": []
  }
 ],
 "metadata": {
  "kernelspec": {
   "display_name": "Python 3.11.3 ('base')",
   "language": "python",
   "name": "python3"
  },
  "language_info": {
   "codemirror_mode": {
    "name": "ipython",
    "version": 3
   },
   "file_extension": ".py",
   "mimetype": "text/x-python",
   "name": "python",
   "nbconvert_exporter": "python",
   "pygments_lexer": "ipython3",
   "version": "3.11.3"
  },
  "orig_nbformat": 4,
  "vscode": {
   "interpreter": {
    "hash": "251d35e52403ccda3431a13cb6cbdbe8354f6d4dcb520c8861368c46abbe0522"
   }
  }
 },
 "nbformat": 4,
 "nbformat_minor": 2
}
